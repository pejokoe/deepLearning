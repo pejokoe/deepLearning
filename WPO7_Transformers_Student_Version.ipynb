{
  "cells": [
    {
      "cell_type": "code",
      "execution_count": 12,
      "id": "6a14837b",
      "metadata": {
        "id": "6a14837b"
      },
      "outputs": [],
      "source": [
        "import ssl\n",
        "ssl._create_default_https_context = ssl._create_unverified_context"
      ]
    },
    {
      "cell_type": "code",
      "source": [
        "!pip install pytorch-metric-learning"
      ],
      "metadata": {
        "colab": {
          "base_uri": "https://localhost:8080/"
        },
        "id": "18WH3oOkB3bv",
        "outputId": "8dffa0b1-b4ce-499a-ec47-6a3e0fe37b4c"
      },
      "id": "18WH3oOkB3bv",
      "execution_count": 13,
      "outputs": [
        {
          "output_type": "stream",
          "name": "stdout",
          "text": [
            "Requirement already satisfied: pytorch-metric-learning in /usr/local/lib/python3.10/dist-packages (2.4.1)\n",
            "Requirement already satisfied: numpy in /usr/local/lib/python3.10/dist-packages (from pytorch-metric-learning) (1.23.5)\n",
            "Requirement already satisfied: scikit-learn in /usr/local/lib/python3.10/dist-packages (from pytorch-metric-learning) (1.2.2)\n",
            "Requirement already satisfied: torch>=1.6.0 in /usr/local/lib/python3.10/dist-packages (from pytorch-metric-learning) (2.1.0+cu121)\n",
            "Requirement already satisfied: tqdm in /usr/local/lib/python3.10/dist-packages (from pytorch-metric-learning) (4.66.1)\n",
            "Requirement already satisfied: filelock in /usr/local/lib/python3.10/dist-packages (from torch>=1.6.0->pytorch-metric-learning) (3.13.1)\n",
            "Requirement already satisfied: typing-extensions in /usr/local/lib/python3.10/dist-packages (from torch>=1.6.0->pytorch-metric-learning) (4.5.0)\n",
            "Requirement already satisfied: sympy in /usr/local/lib/python3.10/dist-packages (from torch>=1.6.0->pytorch-metric-learning) (1.12)\n",
            "Requirement already satisfied: networkx in /usr/local/lib/python3.10/dist-packages (from torch>=1.6.0->pytorch-metric-learning) (3.2.1)\n",
            "Requirement already satisfied: jinja2 in /usr/local/lib/python3.10/dist-packages (from torch>=1.6.0->pytorch-metric-learning) (3.1.2)\n",
            "Requirement already satisfied: fsspec in /usr/local/lib/python3.10/dist-packages (from torch>=1.6.0->pytorch-metric-learning) (2023.6.0)\n",
            "Requirement already satisfied: triton==2.1.0 in /usr/local/lib/python3.10/dist-packages (from torch>=1.6.0->pytorch-metric-learning) (2.1.0)\n",
            "Requirement already satisfied: scipy>=1.3.2 in /usr/local/lib/python3.10/dist-packages (from scikit-learn->pytorch-metric-learning) (1.11.4)\n",
            "Requirement already satisfied: joblib>=1.1.1 in /usr/local/lib/python3.10/dist-packages (from scikit-learn->pytorch-metric-learning) (1.3.2)\n",
            "Requirement already satisfied: threadpoolctl>=2.0.0 in /usr/local/lib/python3.10/dist-packages (from scikit-learn->pytorch-metric-learning) (3.2.0)\n",
            "Requirement already satisfied: MarkupSafe>=2.0 in /usr/local/lib/python3.10/dist-packages (from jinja2->torch>=1.6.0->pytorch-metric-learning) (2.1.3)\n",
            "Requirement already satisfied: mpmath>=0.19 in /usr/local/lib/python3.10/dist-packages (from sympy->torch>=1.6.0->pytorch-metric-learning) (1.3.0)\n"
          ]
        }
      ]
    },
    {
      "cell_type": "code",
      "execution_count": 14,
      "id": "055b7b3a",
      "metadata": {
        "id": "055b7b3a"
      },
      "outputs": [],
      "source": [
        "import torch\n",
        "import torch.optim\n",
        "import torch.nn as nn\n",
        "import torch.nn.functional as F\n",
        "import numpy as np\n",
        "import torchvision\n",
        "import torch.utils.data\n",
        "import torchvision.transforms as transforms\n",
        "import torchvision.datasets as datasets\n",
        "import matplotlib.pyplot as plt\n",
        "from tqdm import tqdm\n",
        "from pytorch_metric_learning import miners, losses\n",
        "device = torch.device(\"cuda\" if torch.cuda.is_available() else \"cpu\")   # use GPU if available"
      ]
    },
    {
      "cell_type": "markdown",
      "id": "8cdcdc68",
      "metadata": {
        "id": "8cdcdc68"
      },
      "source": [
        "## ViT"
      ]
    },
    {
      "cell_type": "markdown",
      "id": "1f949c11",
      "metadata": {
        "id": "1f949c11"
      },
      "source": [
        "**[TO DO]** First let's implement the patchification process"
      ]
    },
    {
      "cell_type": "code",
      "execution_count": 15,
      "id": "8c7ea732",
      "metadata": {
        "id": "8c7ea732"
      },
      "outputs": [],
      "source": [
        "class Patchify(nn.Module):\n",
        "    # carries out patchification and embedding by applying same linear projection to all patches\n",
        "    def __init__(self, img_size, patch_size, embed_dim):\n",
        "        super().__init__()\n",
        "        # image size: (3, 128, 128)\n",
        "        self.num_patches = (img_size // patch_size) * (img_size // patch_size)\n",
        "        self.img_size = img_size\n",
        "        self.patch_size = patch_size\n",
        "        self.in_chans = 3\n",
        "        self.embed_dim = embed_dim\n",
        "        self.proj = nn.Conv2d(in_channels = 3, out_channels = embed_dim, kernel_size = patch_size, stride = patch_size)\n",
        "\n",
        "    def forward(self, x):\n",
        "        B, C, H, W = x.shape\n",
        "        x = self.proj(x) # batch_size, 512, 8, 8\n",
        "        x = x.reshape(B, self.embed_dim, -1) # batch_size, 512, num_tokens (= num_tokens)\n",
        "        x = x.permute(0, 2, 1) # batch_size, num_tokens, 512\n",
        "        return x"
      ]
    },
    {
      "cell_type": "code",
      "source": [
        "patchify = Patchify(img_size = 128, patch_size = 16, embed_dim = 512)\n",
        "random_image = torch.randn(1, 3, 128, 224)\n",
        "patchify(random_image).shape"
      ],
      "metadata": {
        "colab": {
          "base_uri": "https://localhost:8080/"
        },
        "id": "iXbRuWQXMWG8",
        "outputId": "e7bf9ab2-956f-482e-8a8c-a3747df5c725"
      },
      "id": "iXbRuWQXMWG8",
      "execution_count": 16,
      "outputs": [
        {
          "output_type": "execute_result",
          "data": {
            "text/plain": [
              "torch.Size([1, 112, 512])"
            ]
          },
          "metadata": {},
          "execution_count": 16
        }
      ]
    },
    {
      "cell_type": "markdown",
      "id": "337b2868",
      "metadata": {
        "id": "337b2868"
      },
      "source": [
        "Now let's define the Feed Forward Layer of the Transformer Encoder"
      ]
    },
    {
      "cell_type": "code",
      "execution_count": 17,
      "id": "4a9b022f",
      "metadata": {
        "id": "4a9b022f"
      },
      "outputs": [],
      "source": [
        "class FeedForward(nn.Module):\n",
        "    def __init__(self, dim, dropout = 0.):\n",
        "        super().__init__()\n",
        "\n",
        "        self.net = nn.Sequential(\n",
        "            nn.LayerNorm(dim),\n",
        "            nn.Linear(dim, dim * 4),\n",
        "            nn.ReLU(),\n",
        "            nn.Dropout(dropout),\n",
        "            nn.Linear(dim * 4, dim),\n",
        "            nn.Dropout(dropout)\n",
        "        )\n",
        "\n",
        "    def forward(self, x):\n",
        "        return self.net(x)"
      ]
    },
    {
      "cell_type": "markdown",
      "id": "f7d5bfa3",
      "metadata": {
        "id": "f7d5bfa3"
      },
      "source": [
        "**[TO DO]** Now let's define the Multi-Head Attention of the Transformer Encoder"
      ]
    },
    {
      "cell_type": "code",
      "execution_count": 18,
      "id": "91f422f6",
      "metadata": {
        "id": "91f422f6"
      },
      "outputs": [],
      "source": [
        "class MultiHeadAttention(nn.Module):\n",
        "\n",
        "    def __init__(self, dim, heads = 8, dropout = 0.):\n",
        "        super().__init__()\n",
        "        self.dim = dim\n",
        "        self.heads = heads\n",
        "\n",
        "        self.query = nn.Linear(dim, dim)\n",
        "        self.key = nn.Linear(dim, dim)\n",
        "        self.value = nn.Linear(dim, dim)\n",
        "\n",
        "        self.out_proj = nn.Linear(dim, dim)\n",
        "        self.dropout = nn.Dropout(dropout)\n",
        "\n",
        "\n",
        "    def forward(self, x):\n",
        "        # N is the total number of patches\n",
        "        B, N, C = x.shape\n",
        "        # x = x.norm(x) # (B, N, C)\n",
        "        query = self.query(x) #\n",
        "        key = self.key(x) # (B, N, C)\n",
        "        value = self.value(x) # (B, N, C)\n",
        "\n",
        "        # split into heads\n",
        "        # final output (batch_size, 8, max_words, 64)\n",
        "        dim_head = C // self.heads\n",
        "\n",
        "        # Split (B, N, C)\n",
        "        query = query.reshape(B, N, self.heads, C // self.heads) # (B, N, 8, 64)\n",
        "        key = key.reshape(B, N, self.heads, C // self.heads) # (B, N, 8, 64)\n",
        "        value = value.reshape(B, N, self.heads, C // self.heads) # (B, N, 8, 64)\n",
        "        query = query.permute(0, 2, 1, 3) # (B, 8, N, 64)\n",
        "        key = key.permute(0, 2, 1, 3) # (B, 8, N, 64)\n",
        "        value = value.permute(0, 2, 1, 3) # (B, 8, N, 64)\n",
        "\n",
        "        # how many queries? keys and values\n",
        "        attention_scores = torch.matmul(query, key.transpose(-1, -2))\n",
        "        # (B, 8, N, 64) with (B, 8, N, 64)T -- (B, 8, N, N)\n",
        "        scale = dim_head ** -0.5\n",
        "        attention_scores = attention_scores * scale\n",
        "        attention_scores = F.softmax(attention_scores, dim = -1) # (B, 8, N, N)\n",
        "        attention_scores = self.dropout(attention_scores)\n",
        "\n",
        "        # extract valules\n",
        "        # (B, 8, N, N) matmul (B, 8, N, 96)\n",
        "        out = torch.matmul(attention_scores, value) # (B, 8, N, 96)\n",
        "        out = out.permute(0, 2, 1, 3).flatten(2)\n",
        "        out = self.out_proj(out)\n",
        "        return out\n",
        "\n",
        "\n"
      ]
    },
    {
      "cell_type": "code",
      "source": [
        "test = MultiHeadAttention(512)\n",
        "random_input = torch.randn(1, 64, 512)\n",
        "test(random_input).shape"
      ],
      "metadata": {
        "colab": {
          "base_uri": "https://localhost:8080/"
        },
        "id": "rJbzF7-hU0SR",
        "outputId": "2f8493b9-4f98-42cf-be24-3b405b2ec1fe"
      },
      "id": "rJbzF7-hU0SR",
      "execution_count": 19,
      "outputs": [
        {
          "output_type": "execute_result",
          "data": {
            "text/plain": [
              "torch.Size([1, 64, 512])"
            ]
          },
          "metadata": {},
          "execution_count": 19
        }
      ]
    },
    {
      "cell_type": "markdown",
      "id": "a31c0df5",
      "metadata": {
        "id": "a31c0df5"
      },
      "source": [
        "Now let's define the Transformer Encoder"
      ]
    },
    {
      "cell_type": "code",
      "execution_count": 20,
      "id": "5c0b783a",
      "metadata": {
        "id": "5c0b783a"
      },
      "outputs": [],
      "source": [
        "class Transformer(nn.Module):\n",
        "    def __init__(self, dim, num_layers=6, heads=8, dropout = 0.1):\n",
        "\n",
        "        super().__init__()\n",
        "\n",
        "        self.norm = nn.LayerNorm(dim)\n",
        "        self.layers = nn.ModuleList([])\n",
        "\n",
        "        for _ in range(num_layers):\n",
        "            self.layers.append(nn.ModuleList([\n",
        "                MultiHeadAttention(dim, heads = heads, dropout = dropout),\n",
        "                FeedForward(dim, dropout = dropout)]))\n",
        "\n",
        "    def forward(self, x):\n",
        "        for attn, ff in self.layers:\n",
        "            x = attn(x) + x\n",
        "            x = ff(x) + x\n",
        "\n",
        "        return self.norm(x)"
      ]
    },
    {
      "cell_type": "markdown",
      "id": "4b736f01",
      "metadata": {
        "id": "4b736f01"
      },
      "source": [
        "**[TO DO]** Now let's combine all the modules we defined above, into our final ViT model"
      ]
    },
    {
      "cell_type": "code",
      "execution_count": 33,
      "id": "ed96509a",
      "metadata": {
        "id": "ed96509a"
      },
      "outputs": [],
      "source": [
        "class ViT_first(nn.Module):\n",
        "    def __init__(self, image_size, patch_size, num_classes, dim, num_layers, heads, dropout):\n",
        "        super().__init__()\n",
        "        self.patchify = Patchify(image_size, patch_size, dim)\n",
        "        self.pos_encoding = nn.Parameter(torch.randn(1, self.patchify.num_patches, dim))\n",
        "        self.transformer = Transformer(dim, num_layers, heads, dropout = dropout)\n",
        "        # self.classifier = nn.Linear(dim, num_classes)\n",
        "\n",
        "    def forward(self, img):\n",
        "        \"\"\"img of shape (batch_size, 3, height, width)\"\"\"\n",
        "        x = self.patchify(img)\n",
        "        x = x + self.pos_encoding # (B, N, dim)\n",
        "        x = self.transformer(x) # (B, N, dim)\n",
        "        x = x.mean(1)           # (B, dim)\n",
        "        # x = self.classifier(x)\n",
        "        return x\n"
      ]
    },
    {
      "cell_type": "markdown",
      "id": "8b1f9106",
      "metadata": {
        "id": "8b1f9106"
      },
      "source": [
        "#### Data Pre-processing"
      ]
    },
    {
      "cell_type": "markdown",
      "id": "e3ad8265",
      "metadata": {
        "id": "e3ad8265"
      },
      "source": [
        "1. Data Transforms\n",
        "\n",
        "Use [torchvision.transforms](https://pytorch.org/vision/0.9/transforms.html) as a reference. Apply data transformations to the training images such that you\n",
        "- Crop a random portion of image and resize it to a size of 32x32\n",
        "- Apply random horizantal flipping as a data augmentation strategy. You can check other data augmentations [here](https://pytorch.org/vision/main/auto_examples/transforms/plot_transforms_illustrations.html#sphx-glr-auto-examples-transforms-plot-transforms-illustrations-py)\n",
        "- Transform it to a PyTorch Tensor with scaled values between 0-1\n",
        "- Standardize it such that it has a mean of zero and standard deviation of 1\n",
        "\n",
        "For the test images, only perform the last two steps\n",
        "\n",
        "Note:\n",
        "- The mean of the CIFAR dataset for each of the RGB Channels is: `(0.4914, 0.4822, 0.4465)`\n",
        "- The standard deviation of the CIFAR dataset for each of the RGB channels is: `(0.2023, 0.1994, 0.2010)`"
      ]
    },
    {
      "cell_type": "code",
      "execution_count": 34,
      "id": "f5f533b1",
      "metadata": {
        "id": "f5f533b1"
      },
      "outputs": [],
      "source": [
        "transform_train = transforms.Compose([transforms.RandomResizedCrop(32),\n",
        "                                      transforms.RandomHorizontalFlip(),\n",
        "                                      transforms.ToTensor(),\n",
        "                                      transforms.Normalize((0.4914, 0.4822, 0.4465), (0.2023, 0.1994, 0.2010))])\n",
        "\n",
        "transform_test = transforms.Compose([transforms.ToTensor(),\n",
        "                                     transforms.Normalize((0.4914, 0.4822, 0.4465), (0.2023, 0.1994, 0.2010))])"
      ]
    },
    {
      "cell_type": "markdown",
      "id": "5ee0c6d3",
      "metadata": {
        "id": "5ee0c6d3"
      },
      "source": [
        "We will work with the CIFAR10 dataset. It is a dataset of 60,000 32x32 colour images in 10 classes, with 6000 images per class. There are 50,000 training images and 10,000 test images.\n",
        "\n",
        "2. Load (and download if you havent already done so) the training and testing datasets using [torchvision.datasets](https://pytorch.org/vision/main/generated/torchvision.datasets.CIFAR10.html). Specify the transforms that you have already defined in the previous step."
      ]
    },
    {
      "cell_type": "code",
      "execution_count": 35,
      "id": "6424760d",
      "metadata": {
        "colab": {
          "base_uri": "https://localhost:8080/"
        },
        "id": "6424760d",
        "outputId": "8b64dda0-c517-45d4-cb65-f83842763d67"
      },
      "outputs": [
        {
          "output_type": "stream",
          "name": "stdout",
          "text": [
            "Files already downloaded and verified\n",
            "Files already downloaded and verified\n"
          ]
        }
      ],
      "source": [
        "trainset = torchvision.datasets.CIFAR10(root='./data', train=True, download=True, transform=transform_train)\n",
        "testset = torchvision.datasets.CIFAR10(root='./data', train=False, download=True, transform=transform_test)"
      ]
    },
    {
      "cell_type": "markdown",
      "id": "3e9c1b28",
      "metadata": {
        "id": "3e9c1b28"
      },
      "source": [
        "3. Define your data loader. Use a batch size of 128 for training and 100 for testing. Make sure you shuffle the data loading process in the training set!"
      ]
    },
    {
      "cell_type": "code",
      "execution_count": 36,
      "id": "76472807",
      "metadata": {
        "id": "76472807"
      },
      "outputs": [],
      "source": [
        "trainloader = torch.utils.data.DataLoader(trainset, batch_size=128, shuffle=True)\n",
        "testloader = torch.utils.data.DataLoader(testset, batch_size=100, shuffle=False)"
      ]
    },
    {
      "cell_type": "markdown",
      "id": "94a7589a",
      "metadata": {
        "id": "94a7589a"
      },
      "source": [
        "Let's visualize some of the images from the dataset"
      ]
    },
    {
      "cell_type": "code",
      "execution_count": 37,
      "id": "6a73b249",
      "metadata": {
        "id": "6a73b249"
      },
      "outputs": [],
      "source": [
        "classes = ('plane', 'car', 'bird', 'cat', 'deer', 'dog', 'frog', 'horse', 'ship', 'truck')\n",
        "\n",
        "def imshow(inp):\n",
        "    \"\"\"Display image from a PyTorch Tensor.\"\"\"\n",
        "    inp = inp.numpy().transpose((1, 2, 0))\n",
        "    mean = np.array([0.4914, 0.4822, 0.4465])\n",
        "    std = np.array([0.2023, 0.1994, 0.2010])\n",
        "    inp = std * inp + mean\n",
        "    inp = np.clip(inp, 0, 1)\n",
        "    return inp"
      ]
    },
    {
      "cell_type": "code",
      "execution_count": 38,
      "id": "1920c78b",
      "metadata": {
        "colab": {
          "base_uri": "https://localhost:8080/"
        },
        "id": "1920c78b",
        "outputId": "42d3ac66-000c-4e5a-a984-9641d7d34b7b"
      },
      "outputs": [
        {
          "output_type": "stream",
          "name": "stdout",
          "text": [
            "torch.Size([128, 3, 32, 32])\n",
            "torch.Size([128])\n"
          ]
        }
      ],
      "source": [
        "# get some random training images\n",
        "images, labels = next(iter(trainloader))\n",
        "print(images.shape)\n",
        "print(labels.shape)"
      ]
    },
    {
      "cell_type": "code",
      "execution_count": 39,
      "id": "dd91a800",
      "metadata": {
        "colab": {
          "base_uri": "https://localhost:8080/"
        },
        "id": "dd91a800",
        "outputId": "0583ed06-3bf9-48c5-ecbe-bd8444d7627f"
      },
      "outputs": [
        {
          "output_type": "stream",
          "name": "stdout",
          "text": [
            "tensor([0, 1, 3, 9])\n",
            "plane, car, cat, truck\n"
          ]
        }
      ],
      "source": [
        "# let's have a look at the labels for the first 4 loaded images\n",
        "print(labels[:4])\n",
        "# if we would like to map them to human-readble text labels\n",
        "print(', '.join([classes[labels[b]] for b in range(4)]))"
      ]
    },
    {
      "cell_type": "code",
      "execution_count": 40,
      "id": "d5f24fe2",
      "metadata": {
        "colab": {
          "base_uri": "https://localhost:8080/",
          "height": 193
        },
        "id": "d5f24fe2",
        "outputId": "f2f09f13-33a3-4984-cadb-a00f03e0e6f9"
      },
      "outputs": [
        {
          "output_type": "display_data",
          "data": {
            "text/plain": [
              "<Figure size 1000x1000 with 4 Axes>"
            ],
            "image/png": "[encoded data removed]"
          },
          "metadata": {}
        }
      ],
      "source": [
        "num_images_to_show = 4\n",
        "fig, axs = plt.subplots(1, num_images_to_show, figsize=(10,10))\n",
        "np.vectorize(lambda ax:ax.axis('off'))(axs)\n",
        "\n",
        "for j in range(num_images_to_show):\n",
        "    axs[j].imshow(imshow(images[j]))\n",
        "    axs[j].set_title(classes[labels[j].item()])\n",
        "\n",
        "plt.subplots_adjust(wspace=0.1, hspace = 0)"
      ]
    },
    {
      "cell_type": "markdown",
      "id": "8dd60cf5",
      "metadata": {
        "id": "8dd60cf5"
      },
      "source": [
        "#### Part 2: Defining the ViT"
      ]
    },
    {
      "cell_type": "markdown",
      "id": "d98f3f87",
      "metadata": {
        "id": "d98f3f87"
      },
      "source": [
        "Create an instance of your model and run it with a random tensor to ensure there is no error. Also check that the output shape is (N, 10) where N is your batch size. **Note**: If you are using a GPU, make sure to move both your model AND input tensor to the GPU device"
      ]
    },
    {
      "cell_type": "code",
      "execution_count": 41,
      "id": "37e9a857",
      "metadata": {
        "colab": {
          "base_uri": "https://localhost:8080/"
        },
        "id": "37e9a857",
        "outputId": "19383892-839f-45b3-86e1-7e609566f6a6"
      },
      "outputs": [
        {
          "output_type": "stream",
          "name": "stdout",
          "text": [
            "torch.Size([1, 512])\n"
          ]
        }
      ],
      "source": [
        "model = ViT_first(image_size = 128,\n",
        "            patch_size = 8,\n",
        "            num_classes = 2,\n",
        "            dim = 512,\n",
        "            num_layers = 6,\n",
        "            heads = 8,\n",
        "            dropout = 0.1).to(device)\n",
        "\n",
        "random_input = torch.randn(1,3,128,128).to(device)\n",
        "print(model(random_input).shape)"
      ]
    },
    {
      "cell_type": "markdown",
      "id": "48377b41",
      "metadata": {
        "id": "48377b41"
      },
      "source": [
        "Refer to the [torch.optim](https://pytorch.org/docs/stable/optim.html) library. Define the optimizer and learning rate. Use SGD with momentum, with an initial learning rate of 0.01"
      ]
    },
    {
      "cell_type": "code",
      "execution_count": 42,
      "id": "b669fde9",
      "metadata": {
        "id": "b669fde9"
      },
      "outputs": [],
      "source": [
        "optimizer = torch.optim.Adam(model.parameters(), lr=1e-4)"
      ]
    },
    {
      "cell_type": "markdown",
      "id": "eeae6771",
      "metadata": {
        "id": "eeae6771"
      },
      "source": [
        "Define the learning rate scheduler (use [cosine annealing](https://pytorch.org/docs/stable/generated/torch.optim.lr_scheduler.CosineAnnealingLR.html#torch.optim.lr_scheduler.CosineAnnealingLR)) and plot the learning rate variation for 100 epochs."
      ]
    },
    {
      "cell_type": "code",
      "execution_count": 43,
      "id": "9520f5b5",
      "metadata": {
        "id": "9520f5b5",
        "colab": {
          "base_uri": "https://localhost:8080/",
          "height": 523
        },
        "outputId": "6de51636-7dc4-499a-b84d-28d7963dc2c4"
      },
      "outputs": [
        {
          "output_type": "stream",
          "name": "stderr",
          "text": [
            "/usr/local/lib/python3.10/dist-packages/torch/optim/lr_scheduler.py:136: UserWarning: Detected call of `lr_scheduler.step()` before `optimizer.step()`. In PyTorch 1.1.0 and later, you should call them in the opposite order: `optimizer.step()` before `lr_scheduler.step()`.  Failure to do this will result in PyTorch skipping the first value of the learning rate schedule. See more details at https://pytorch.org/docs/stable/optim.html#how-to-adjust-learning-rate\n",
            "  warnings.warn(\"Detected call of `lr_scheduler.step()` before `optimizer.step()`. \"\n"
          ]
        },
        {
          "output_type": "execute_result",
          "data": {
            "text/plain": [
              "Text(0, 0.5, 'learning rate')"
            ]
          },
          "metadata": {},
          "execution_count": 43
        },
        {
          "output_type": "display_data",
          "data": {
            "text/plain": [
              "<Figure size 640x480 with 1 Axes>"
            ],
            "image/png": "[encoded data removed]"
          },
          "metadata": {}
        }
      ],
      "source": [
        "epochs = 20\n",
        "scheduler = torch.optim.lr_scheduler.CosineAnnealingLR(optimizer, T_max=epochs)\n",
        "\n",
        "lrs = []\n",
        "for _ in range(epochs):\n",
        "    lrs.append(scheduler.get_last_lr())\n",
        "    scheduler.step()\n",
        "\n",
        "plt.plot(lrs)\n",
        "plt.xlabel('epochs')\n",
        "plt.ylabel('learning rate')"
      ]
    },
    {
      "cell_type": "markdown",
      "id": "ba10cd0c",
      "metadata": {
        "id": "ba10cd0c"
      },
      "source": [
        "now define the loss funtion. We will use the [cross-entropy](https://pytorch.org/docs/stable/generated/torch.nn.CrossEntropyLoss.html) loss (also see the input shapes that this loss expects to know how to call it later). Note that this loss applied Softmax on the class logits, and therefore you do not need to define the softmax. This loss is equivalent to applying [LogSoftmax](https://pytorch.org/docs/stable/generated/torch.nn.LogSoftmax.html#torch.nn.LogSoftmax) on an input, followed by [NLLLoss](https://pytorch.org/docs/stable/generated/torch.nn.NLLLoss.html#torch.nn.NLLLoss)."
      ]
    },
    {
      "cell_type": "code",
      "execution_count": 44,
      "id": "8107116e",
      "metadata": {
        "id": "8107116e"
      },
      "outputs": [],
      "source": [
        "epochs = 20\n",
        "optimizer = torch.optim.Adam(model.parameters(), lr=1e-4)\n",
        "scheduler = torch.optim.lr_scheduler.CosineAnnealingLR(optimizer, T_max=epochs)\n",
        "triplet_miner = miners.TripletMarginMiner(type_of_triplets=\"hard\")\n",
        "criterion = losses.TripletMarginLoss(margin=0.2)"
      ]
    },
    {
      "cell_type": "markdown",
      "id": "e86fd4ee",
      "metadata": {
        "id": "e86fd4ee"
      },
      "source": [
        "Write the training loop funtion for one iteration.\n",
        "\n",
        "- Set the model to training mode (since we use dropout which has a different behaviour in training and testing)\n",
        "- Iterarate through your data loader. Zero-out accumulated gradients in the computation graph, run the inputs to your model and get the outputs, calculate the loss, backpropogate the loss to calculate gradients, and then update the weights\n",
        "- Your training funtion should return the averaged loss and accuracy at the epoch"
      ]
    },
    {
      "cell_type": "code",
      "execution_count": 45,
      "id": "029c7ea2",
      "metadata": {
        "id": "029c7ea2"
      },
      "outputs": [],
      "source": [
        "print_every = 200\n",
        "def train(epoch):\n",
        "    model.train()\n",
        "    train_loss = 0\n",
        "    correct = 0\n",
        "    total = 0\n",
        "    for batch_idx, (inputs, targets) in enumerate(trainloader):\n",
        "        inputs, targets = inputs.to(device), targets.to(device)\n",
        "        optimizer.zero_grad()\n",
        "        outputs = model(inputs)\n",
        "        hard_triplets = triplet_miner(outputs, targets)\n",
        "        loss = criterion(outputs, targets, hard_triplets)\n",
        "        loss.backward()\n",
        "        optimizer.step()\n",
        "\n",
        "        train_loss += loss.item()\n",
        "        _, predicted = outputs.max(1)\n",
        "        # total += targets.size(0)\n",
        "        # correct += predicted.eq(targets).sum().item()\n",
        "\n",
        "        epoch_loss = train_loss/(batch_idx+1)\n",
        "        # epoch_acc = 100.*correct/total\n",
        "\n",
        "        if batch_idx % print_every == 0:\n",
        "            print('Epoch {}/{}, Iter {}/{}, Train Loss: {:.3f}'.format(epoch, epochs, batch_idx, len(trainloader),\n",
        "                                                                                   epoch_loss))\n",
        "    return epoch_loss"
      ]
    },
    {
      "cell_type": "markdown",
      "id": "0d8a7c5a",
      "metadata": {
        "id": "0d8a7c5a"
      },
      "source": [
        "Write the testing funtion to get the test accuracy and test loss (minimal modifications to the training funtion)"
      ]
    },
    {
      "cell_type": "code",
      "execution_count": 46,
      "id": "ad6bc579",
      "metadata": {
        "id": "ad6bc579"
      },
      "outputs": [],
      "source": [
        "def test():\n",
        "    model.eval()\n",
        "    test_loss = 0\n",
        "    correct = 0\n",
        "    total = 0\n",
        "    with torch.no_grad():\n",
        "        for batch_idx, (inputs, targets) in enumerate(tqdm(testloader)):\n",
        "            inputs, targets = inputs.to(device), targets.to(device)\n",
        "            outputs = model(inputs)\n",
        "            loss = criterion(outputs, targets)\n",
        "\n",
        "            test_loss += loss.item()\n",
        "            _, predicted = outputs.max(1)\n",
        "            total += targets.size(0)\n",
        "            correct += predicted.eq(targets).sum().item()\n",
        "\n",
        "    acc = 100.*correct/total\n",
        "    loss = test_loss/(batch_idx+1)\n",
        "    print('Test Accuracy: {:.3f}, Test Loss: {:.3f}'.format(acc, loss))\n",
        "    return acc"
      ]
    },
    {
      "cell_type": "markdown",
      "id": "24f4d9e9",
      "metadata": {
        "id": "24f4d9e9"
      },
      "source": [
        "Loop over all the epochs:\n",
        "\n",
        "- Run the training funtion\n",
        "- Save the losses and accuracies returned at each epoch\n",
        "- Run the test funtion\n",
        "- Save the model/Overwrite the previously saved one if the accuracy improved from the last epoch. Refer [here](https://pytorch.org/tutorials/beginner/saving_loading_models.html)\n",
        "\n",
        "For reference, this model should achieve a **test accuracy** of around **59%** after training for 20 epochs."
      ]
    },
    {
      "cell_type": "code",
      "execution_count": 47,
      "id": "87bdbc69",
      "metadata": {
        "id": "87bdbc69",
        "colab": {
          "base_uri": "https://localhost:8080/",
          "height": 456
        },
        "outputId": "5574f506-da27-4c35-f6a3-f937389fd87a"
      },
      "outputs": [
        {
          "output_type": "error",
          "ename": "RuntimeError",
          "evalue": "ignored",
          "traceback": [
            "\u001b[0;31m---------------------------------------------------------------------------\u001b[0m",
            "\u001b[0;31mRuntimeError\u001b[0m                              Traceback (most recent call last)",
            "\u001b[0;32m<ipython-input-47-17e821419ff2>\u001b[0m in \u001b[0;36m<cell line: 6>\u001b[0;34m()\u001b[0m\n\u001b[1;32m      5\u001b[0m \u001b[0;34m\u001b[0m\u001b[0m\n\u001b[1;32m      6\u001b[0m \u001b[0;32mfor\u001b[0m \u001b[0mepoch\u001b[0m \u001b[0;32min\u001b[0m \u001b[0mrange\u001b[0m\u001b[0;34m(\u001b[0m\u001b[0mepochs\u001b[0m\u001b[0;34m)\u001b[0m\u001b[0;34m:\u001b[0m\u001b[0;34m\u001b[0m\u001b[0;34m\u001b[0m\u001b[0m\n\u001b[0;32m----> 7\u001b[0;31m     \u001b[0mepoch_loss\u001b[0m \u001b[0;34m=\u001b[0m \u001b[0mtrain\u001b[0m\u001b[0;34m(\u001b[0m\u001b[0mepoch\u001b[0m\u001b[0;34m)\u001b[0m\u001b[0;34m\u001b[0m\u001b[0;34m\u001b[0m\u001b[0m\n\u001b[0m\u001b[1;32m      8\u001b[0m     \u001b[0mlosses\u001b[0m\u001b[0;34m.\u001b[0m\u001b[0mappend\u001b[0m\u001b[0;34m(\u001b[0m\u001b[0mepoch_loss\u001b[0m\u001b[0;34m)\u001b[0m\u001b[0;34m\u001b[0m\u001b[0;34m\u001b[0m\u001b[0m\n\u001b[1;32m      9\u001b[0m     \u001b[0mscheduler\u001b[0m\u001b[0;34m.\u001b[0m\u001b[0mstep\u001b[0m\u001b[0;34m(\u001b[0m\u001b[0;34m)\u001b[0m\u001b[0;34m\u001b[0m\u001b[0;34m\u001b[0m\u001b[0m\n",
            "\u001b[0;32m<ipython-input-45-08464143bd71>\u001b[0m in \u001b[0;36mtrain\u001b[0;34m(epoch)\u001b[0m\n\u001b[1;32m      8\u001b[0m         \u001b[0minputs\u001b[0m\u001b[0;34m,\u001b[0m \u001b[0mtargets\u001b[0m \u001b[0;34m=\u001b[0m \u001b[0minputs\u001b[0m\u001b[0;34m.\u001b[0m\u001b[0mto\u001b[0m\u001b[0;34m(\u001b[0m\u001b[0mdevice\u001b[0m\u001b[0;34m)\u001b[0m\u001b[0;34m,\u001b[0m \u001b[0mtargets\u001b[0m\u001b[0;34m.\u001b[0m\u001b[0mto\u001b[0m\u001b[0;34m(\u001b[0m\u001b[0mdevice\u001b[0m\u001b[0;34m)\u001b[0m\u001b[0;34m\u001b[0m\u001b[0;34m\u001b[0m\u001b[0m\n\u001b[1;32m      9\u001b[0m         \u001b[0moptimizer\u001b[0m\u001b[0;34m.\u001b[0m\u001b[0mzero_grad\u001b[0m\u001b[0;34m(\u001b[0m\u001b[0;34m)\u001b[0m\u001b[0;34m\u001b[0m\u001b[0;34m\u001b[0m\u001b[0m\n\u001b[0;32m---> 10\u001b[0;31m         \u001b[0moutputs\u001b[0m \u001b[0;34m=\u001b[0m \u001b[0mmodel\u001b[0m\u001b[0;34m(\u001b[0m\u001b[0minputs\u001b[0m\u001b[0;34m)\u001b[0m\u001b[0;34m\u001b[0m\u001b[0;34m\u001b[0m\u001b[0m\n\u001b[0m\u001b[1;32m     11\u001b[0m         \u001b[0mminer_output\u001b[0m \u001b[0;34m=\u001b[0m \u001b[0mtriplet_miner\u001b[0m\u001b[0;34m(\u001b[0m\u001b[0moutputs\u001b[0m\u001b[0;34m,\u001b[0m \u001b[0mtargets\u001b[0m\u001b[0;34m)\u001b[0m\u001b[0;34m\u001b[0m\u001b[0;34m\u001b[0m\u001b[0m\n\u001b[1;32m     12\u001b[0m         \u001b[0mloss\u001b[0m \u001b[0;34m=\u001b[0m \u001b[0mcriterion\u001b[0m\u001b[0;34m(\u001b[0m\u001b[0moutputs\u001b[0m\u001b[0;34m,\u001b[0m \u001b[0mtargets\u001b[0m\u001b[0;34m,\u001b[0m \u001b[0mminer_output\u001b[0m\u001b[0;34m)\u001b[0m\u001b[0;34m\u001b[0m\u001b[0;34m\u001b[0m\u001b[0m\n",
            "\u001b[0;32m/usr/local/lib/python3.10/dist-packages/torch/nn/modules/module.py\u001b[0m in \u001b[0;36m_wrapped_call_impl\u001b[0;34m(self, *args, **kwargs)\u001b[0m\n\u001b[1;32m   1516\u001b[0m             \u001b[0;32mreturn\u001b[0m \u001b[0mself\u001b[0m\u001b[0;34m.\u001b[0m\u001b[0m_compiled_call_impl\u001b[0m\u001b[0;34m(\u001b[0m\u001b[0;34m*\u001b[0m\u001b[0margs\u001b[0m\u001b[0;34m,\u001b[0m \u001b[0;34m**\u001b[0m\u001b[0mkwargs\u001b[0m\u001b[0;34m)\u001b[0m  \u001b[0;31m# type: ignore[misc]\u001b[0m\u001b[0;34m\u001b[0m\u001b[0;34m\u001b[0m\u001b[0m\n\u001b[1;32m   1517\u001b[0m         \u001b[0;32melse\u001b[0m\u001b[0;34m:\u001b[0m\u001b[0;34m\u001b[0m\u001b[0;34m\u001b[0m\u001b[0m\n\u001b[0;32m-> 1518\u001b[0;31m             \u001b[0;32mreturn\u001b[0m \u001b[0mself\u001b[0m\u001b[0;34m.\u001b[0m\u001b[0m_call_impl\u001b[0m\u001b[0;34m(\u001b[0m\u001b[0;34m*\u001b[0m\u001b[0margs\u001b[0m\u001b[0;34m,\u001b[0m \u001b[0;34m**\u001b[0m\u001b[0mkwargs\u001b[0m\u001b[0;34m)\u001b[0m\u001b[0;34m\u001b[0m\u001b[0;34m\u001b[0m\u001b[0m\n\u001b[0m\u001b[1;32m   1519\u001b[0m \u001b[0;34m\u001b[0m\u001b[0m\n\u001b[1;32m   1520\u001b[0m     \u001b[0;32mdef\u001b[0m \u001b[0m_call_impl\u001b[0m\u001b[0;34m(\u001b[0m\u001b[0mself\u001b[0m\u001b[0;34m,\u001b[0m \u001b[0;34m*\u001b[0m\u001b[0margs\u001b[0m\u001b[0;34m,\u001b[0m \u001b[0;34m**\u001b[0m\u001b[0mkwargs\u001b[0m\u001b[0;34m)\u001b[0m\u001b[0;34m:\u001b[0m\u001b[0;34m\u001b[0m\u001b[0;34m\u001b[0m\u001b[0m\n",
            "\u001b[0;32m/usr/local/lib/python3.10/dist-packages/torch/nn/modules/module.py\u001b[0m in \u001b[0;36m_call_impl\u001b[0;34m(self, *args, **kwargs)\u001b[0m\n\u001b[1;32m   1525\u001b[0m                 \u001b[0;32mor\u001b[0m \u001b[0m_global_backward_pre_hooks\u001b[0m \u001b[0;32mor\u001b[0m \u001b[0m_global_backward_hooks\u001b[0m\u001b[0;34m\u001b[0m\u001b[0;34m\u001b[0m\u001b[0m\n\u001b[1;32m   1526\u001b[0m                 or _global_forward_hooks or _global_forward_pre_hooks):\n\u001b[0;32m-> 1527\u001b[0;31m             \u001b[0;32mreturn\u001b[0m \u001b[0mforward_call\u001b[0m\u001b[0;34m(\u001b[0m\u001b[0;34m*\u001b[0m\u001b[0margs\u001b[0m\u001b[0;34m,\u001b[0m \u001b[0;34m**\u001b[0m\u001b[0mkwargs\u001b[0m\u001b[0;34m)\u001b[0m\u001b[0;34m\u001b[0m\u001b[0;34m\u001b[0m\u001b[0m\n\u001b[0m\u001b[1;32m   1528\u001b[0m \u001b[0;34m\u001b[0m\u001b[0m\n\u001b[1;32m   1529\u001b[0m         \u001b[0;32mtry\u001b[0m\u001b[0;34m:\u001b[0m\u001b[0;34m\u001b[0m\u001b[0;34m\u001b[0m\u001b[0m\n",
            "\u001b[0;32m<ipython-input-33-e0e294dc2e39>\u001b[0m in \u001b[0;36mforward\u001b[0;34m(self, img)\u001b[0m\n\u001b[1;32m     10\u001b[0m         \u001b[0;34m\"\"\"img of shape (batch_size, 3, height, width)\"\"\"\u001b[0m\u001b[0;34m\u001b[0m\u001b[0;34m\u001b[0m\u001b[0m\n\u001b[1;32m     11\u001b[0m         \u001b[0mx\u001b[0m \u001b[0;34m=\u001b[0m \u001b[0mself\u001b[0m\u001b[0;34m.\u001b[0m\u001b[0mpatchify\u001b[0m\u001b[0;34m(\u001b[0m\u001b[0mimg\u001b[0m\u001b[0;34m)\u001b[0m\u001b[0;34m\u001b[0m\u001b[0;34m\u001b[0m\u001b[0m\n\u001b[0;32m---> 12\u001b[0;31m         \u001b[0mx\u001b[0m \u001b[0;34m=\u001b[0m \u001b[0mx\u001b[0m \u001b[0;34m+\u001b[0m \u001b[0mself\u001b[0m\u001b[0;34m.\u001b[0m\u001b[0mpos_encoding\u001b[0m \u001b[0;31m# (B, N, dim)\u001b[0m\u001b[0;34m\u001b[0m\u001b[0;34m\u001b[0m\u001b[0m\n\u001b[0m\u001b[1;32m     13\u001b[0m         \u001b[0mx\u001b[0m \u001b[0;34m=\u001b[0m \u001b[0mself\u001b[0m\u001b[0;34m.\u001b[0m\u001b[0mtransformer\u001b[0m\u001b[0;34m(\u001b[0m\u001b[0mx\u001b[0m\u001b[0;34m)\u001b[0m \u001b[0;31m# (B, N, dim)\u001b[0m\u001b[0;34m\u001b[0m\u001b[0;34m\u001b[0m\u001b[0m\n\u001b[1;32m     14\u001b[0m         \u001b[0mx\u001b[0m \u001b[0;34m=\u001b[0m \u001b[0mx\u001b[0m\u001b[0;34m.\u001b[0m\u001b[0mmean\u001b[0m\u001b[0;34m(\u001b[0m\u001b[0;36m1\u001b[0m\u001b[0;34m)\u001b[0m           \u001b[0;31m# (B, dim)\u001b[0m\u001b[0;34m\u001b[0m\u001b[0;34m\u001b[0m\u001b[0m\n",
            "\u001b[0;31mRuntimeError\u001b[0m: The size of tensor a (16) must match the size of tensor b (256) at non-singleton dimension 1"
          ]
        }
      ],
      "source": [
        "best_acc = 0\n",
        "\n",
        "losses = []\n",
        "accuracies = []\n",
        "\n",
        "for epoch in range(epochs):\n",
        "    epoch_loss = train(epoch)\n",
        "    losses.append(epoch_loss)\n",
        "    scheduler.step()\n",
        "    acc = test()\n",
        "    state = {'model': model.state_dict(),\n",
        "             'acc': acc,\n",
        "             'epoch': epoch}\n",
        "    if acc > best_acc:\n",
        "        torch.save(state, 'model.pth')\n",
        "        best_acc = acc"
      ]
    },
    {
      "cell_type": "code",
      "execution_count": null,
      "id": "5af34911",
      "metadata": {
        "id": "5af34911",
        "colab": {
          "base_uri": "https://localhost:8080/",
          "height": 466
        },
        "outputId": "238d878d-cf3a-4719-8fba-adafec65c56e"
      },
      "outputs": [
        {
          "output_type": "execute_result",
          "data": {
            "text/plain": [
              "Text(0, 0.5, 'train loss')"
            ]
          },
          "metadata": {},
          "execution_count": 25
        },
        {
          "output_type": "display_data",
          "data": {
            "text/plain": [
              "<Figure size 640x480 with 1 Axes>"
            ],
            "image/png": "[encoded data removed]"
          },
          "metadata": {}
        }
      ],
      "source": [
        "plt.plot(losses)\n",
        "plt.xlabel('epoch')\n",
        "plt.ylabel('train loss')"
      ]
    },
    {
      "cell_type": "code",
      "execution_count": null,
      "id": "10f90ad0",
      "metadata": {
        "id": "10f90ad0",
        "colab": {
          "base_uri": "https://localhost:8080/",
          "height": 466
        },
        "outputId": "578b9552-e35a-4d72-c0c9-8b8c58f2274c"
      },
      "outputs": [
        {
          "output_type": "execute_result",
          "data": {
            "text/plain": [
              "Text(0, 0.5, 'train accuracy')"
            ]
          },
          "metadata": {},
          "execution_count": 26
        },
        {
          "output_type": "display_data",
          "data": {
            "text/plain": [
              "<Figure size 640x480 with 1 Axes>"
            ],
            "image/png": "[encoded data removed]"
          },
          "metadata": {}
        }
      ],
      "source": [
        "plt.plot(accuracies)\n",
        "plt.xlabel('epoch')\n",
        "plt.ylabel('train accuracy')"
      ]
    },
    {
      "cell_type": "markdown",
      "id": "b7b45094",
      "metadata": {
        "id": "b7b45094"
      },
      "source": [
        "### Let's visualize some predictions!"
      ]
    },
    {
      "cell_type": "code",
      "execution_count": null,
      "id": "3ed87763",
      "metadata": {
        "id": "3ed87763"
      },
      "outputs": [],
      "source": [
        "model.eval()\n",
        "test_images, gt_labels = next(iter(testloader))"
      ]
    },
    {
      "cell_type": "code",
      "execution_count": null,
      "id": "b4310f25",
      "metadata": {
        "id": "b4310f25"
      },
      "outputs": [],
      "source": [
        "index_test_image = 1\n",
        "input_test_img = test_images[index_test_image].unsqueeze(0).to(device)\n",
        "outputs = model(input_test_img)\n",
        "_, predicted = outputs.max(1)"
      ]
    },
    {
      "cell_type": "code",
      "execution_count": null,
      "id": "1268d860",
      "metadata": {
        "id": "1268d860",
        "colab": {
          "base_uri": "https://localhost:8080/",
          "height": 445
        },
        "outputId": "59a92518-4af6-4d09-cf10-933e3f6e5386"
      },
      "outputs": [
        {
          "output_type": "execute_result",
          "data": {
            "text/plain": [
              "(-0.5, 31.5, 31.5, -0.5)"
            ]
          },
          "metadata": {},
          "execution_count": 29
        },
        {
          "output_type": "display_data",
          "data": {
            "text/plain": [
              "<Figure size 640x480 with 1 Axes>"
            ],
            "image/png": "[encoded data removed]"
          },
          "metadata": {}
        }
      ],
      "source": [
        "plt.imshow(imshow(test_images[index_test_image]))\n",
        "plt.title('Predicted: {}, Ground Truth: {}'.format(classes[predicted.item()],classes[gt_labels[index_test_image].item()]))\n",
        "plt.axis('off')"
      ]
    },
    {
      "cell_type": "code",
      "execution_count": null,
      "id": "78862f66",
      "metadata": {
        "id": "78862f66"
      },
      "outputs": [],
      "source": []
    }
  ],
  "metadata": {
    "kernelspec": {
      "display_name": "Python 3",
      "name": "python3"
    },
    "language_info": {
      "codemirror_mode": {
        "name": "ipython",
        "version": 3
      },
      "file_extension": ".py",
      "mimetype": "text/x-python",
      "name": "python",
      "nbconvert_exporter": "python",
      "pygments_lexer": "ipython3",
      "version": "3.9.13"
    },
    "colab": {
      "provenance": [],
      "gpuType": "T4"
    },
    "accelerator": "GPU"
  },
  "nbformat": 4,
  "nbformat_minor": 5
}